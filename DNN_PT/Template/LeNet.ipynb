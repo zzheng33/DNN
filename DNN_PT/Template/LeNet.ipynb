{
 "cells": [
  {
   "cell_type": "code",
   "execution_count": 1,
   "id": "554aab7f-35a7-4f2c-8a53-36d00e585879",
   "metadata": {
    "tags": []
   },
   "outputs": [],
   "source": [
    "import torch\n",
    "import torchvision\n",
    "import torchvision.transforms as transforms\n",
    "from torch.utils.data import DataLoader\n",
    "from torch.utils.tensorboard import SummaryWriter\n",
    "import torch.optim as optim\n",
    "import torch.nn as nn\n",
    "import time\n",
    "import os\n",
    "from torch.utils.data import Subset\n",
    "import random\n",
    "import torch.nn.functional as F\n",
    "import argparse\n",
    "\n",
    "# Define the LeNet architecture\n",
    "class LeNet(nn.Module):\n",
    "    def __init__(self, num_classes=1000):\n",
    "        super(LeNet, self).__init__()\n",
    "        self.conv1 = nn.Conv2d(3, 6, 5)\n",
    "        self.pool = nn.MaxPool2d(2, 2)\n",
    "        self.conv2 = nn.Conv2d(6, 16, 5)\n",
    "        self.fc1 = nn.Linear(16 * 5 * 5, 120)\n",
    "        self.fc2 = nn.Linear(120, 84)\n",
    "        self.fc3 = nn.Linear(84, num_classes)\n",
    "\n",
    "    def forward(self, x):\n",
    "        x = self.pool(F.relu(self.conv1(x)))\n",
    "        x = self.pool(F.relu(self.conv2(x)))\n",
    "        x = x.view(-1, 16 * 5 * 5)\n",
    "        x = F.relu(self.fc1(x))\n",
    "        x = F.relu(self.fc2(x))\n",
    "        x = self.fc3(x)\n",
    "        return x\n",
    "\n",
    "# Update the build_model function\n",
    "def build_model():\n",
    "    model = LeNet()\n",
    "    criterion = nn.CrossEntropyLoss()\n",
    "    optimizer = optim.SGD(model.parameters(), lr=0.1, momentum=0.9, weight_decay=1e-4)\n",
    "\n",
    "    device = torch.device(\"cuda\" if torch.cuda.is_available() else \"cpu\")\n",
    "    model = model.to(device)\n",
    "    model = nn.DataParallel(model)\n",
    "    return model, criterion, optimizer, device\n",
    "\n",
    "# Update the data augmentation and normalization for training\n",
    "def create_dataset():\n",
    "    train_transform = transforms.Compose([\n",
    "        transforms.Resize((32, 32)),\n",
    "        transforms.RandomHorizontalFlip(),\n",
    "        transforms.ToTensor(),\n",
    "        transforms.Normalize(mean=[0.485, 0.456, 0.406], std=[0.229, 0.224, 0.225]),\n",
    "    ])\n",
    "\n",
    "    train_dataset = torchvision.datasets.ImageFolder(os.path.join(\"/lus/eagle/projects/datascience/ImageNet/ILSVRC/Data/CLS-LOC\", \"train\"), transform=train_transform)\n",
    "\n",
    "    num_samples = 10000\n",
    "\n",
    "    train_indices = get_random_subset_indices(num_samples, len(train_dataset))\n",
    "    small_train_dataset = Subset(train_dataset, train_indices)\n",
    "    return small_train_dataset\n",
    "\n",
    "\n",
    "def get_random_subset_indices(num_samples, dataset_size):\n",
    "    return random.sample(range(dataset_size), num_samples)\n",
    "\n",
    "\n",
    "def create_dataLoader(batch_size=256, workers=8):\n",
    "    return DataLoader(create_dataset(), batch_size=batch_size, shuffle=True, num_workers=workers, pin_memory=True)\n",
    "\n",
    "def select_device(selected_gpus):\n",
    "     os.environ[\"CUDA_VISIBLE_DEVICES\"] = \",\".join(map(str, selected_gpus))\n",
    "\n",
    "def train_one_epoch(model, criterion, optimizer, data_loader, device):\n",
    "    model.train()\n",
    "    \n",
    "    total_images = 0\n",
    "    start_time = time.time()\n",
    "    start_time_dataLoad = time.time()\n",
    "    end_time_dataLoad = 0\n",
    "    for i, (inputs, labels) in enumerate(data_loader):\n",
    "        inputs, labels = inputs.to(device), labels.to(device)\n",
    "        optimizer.zero_grad()\n",
    "        \n",
    "        \n",
    "        outputs = model(inputs)\n",
    "        loss = criterion(outputs, labels)\n",
    "        loss.backward()\n",
    "        optimizer.step()\n",
    "\n",
    "        total_images += inputs.size(0)\n",
    "\n",
    "    end_time = time.time()\n",
    "    images_per_second = total_images / (end_time - start_time)\n",
    "    dataLoad_time = end_time_dataLoad - start_time_dataLoad\n",
    "    return int(images_per_second), end_time-start_time\n",
    "\n",
    "def train(batch_size=256, GPU_selection=[0, 1], epoch=5, num_workers=8):\n",
    "    \n",
    "    num_epochs = epoch  # Adjust this value according to your needs\n",
    "    train_loader = create_dataLoader(batch_size, num_workers)\n",
    "    select_device(GPU_selection)\n",
    "    model,criterion,optimizer,device = build_model()\n",
    "    \n",
    "    \n",
    "    for epoch in range(num_epochs):\n",
    "        images_per_second, epoch_duration = train_one_epoch(model, criterion, optimizer, train_loader, device)\n",
    "      \n",
    "        print(f\"Epoch [{epoch + 1}/{num_epochs}],Duration: {epoch_duration:.2f}s, Images/s: {images_per_second}\")\n",
    "         \n",
    "\n"
   ]
  },
  {
   "cell_type": "code",
   "execution_count": null,
   "id": "da2c1f83-2498-488d-92c7-4bb147652ebe",
   "metadata": {},
   "outputs": [
    {
     "name": "stdout",
     "output_type": "stream",
     "text": [
      "Epoch [1/5],Duration: 54.57s, Images/s: 183\n"
     ]
    }
   ],
   "source": [
    "train(batch_size=256, GPU_selection=[1], epoch=5, num_workers=4)"
   ]
  },
  {
   "cell_type": "code",
   "execution_count": 2,
   "id": "881778da-ec07-4789-b2a4-08802518cac6",
   "metadata": {},
   "outputs": [
    {
     "name": "stdout",
     "output_type": "stream",
     "text": [
      "Epoch [1/5],Duration: 65.99s, Images/s: 151\n",
      "Epoch [2/5],Duration: 7.04s, Images/s: 1420\n",
      "Epoch [3/5],Duration: 7.02s, Images/s: 1424\n",
      "Epoch [4/5],Duration: 7.45s, Images/s: 1342\n",
      "Epoch [5/5],Duration: 7.26s, Images/s: 1378\n"
     ]
    }
   ],
   "source": [
    "train(batch_size=256, GPU_selection=[0,1], epoch=5, num_workers=4)"
   ]
  },
  {
   "cell_type": "code",
   "execution_count": 2,
   "id": "09c1beb5-99b7-4c39-98c2-8c2904999e66",
   "metadata": {},
   "outputs": [
    {
     "name": "stdout",
     "output_type": "stream",
     "text": [
      "Epoch [1/5],Duration: 67.41s, Images/s: 148\n",
      "Epoch [2/5],Duration: 7.21s, Images/s: 1386\n",
      "Epoch [3/5],Duration: 7.13s, Images/s: 1402\n",
      "Epoch [4/5],Duration: 7.37s, Images/s: 1356\n",
      "Epoch [5/5],Duration: 7.08s, Images/s: 1412\n"
     ]
    }
   ],
   "source": [
    "train(batch_size=256, GPU_selection=[0,1,2], epoch=5, num_workers=4)"
   ]
  },
  {
   "cell_type": "code",
   "execution_count": 2,
   "id": "b06434fa-7e7c-4050-8abb-3ed7da156e3b",
   "metadata": {},
   "outputs": [
    {
     "name": "stdout",
     "output_type": "stream",
     "text": [
      "Epoch [1/5],Duration: 66.12s, Images/s: 151\n",
      "Epoch [2/5],Duration: 7.18s, Images/s: 1392\n",
      "Epoch [3/5],Duration: 7.23s, Images/s: 1383\n",
      "Epoch [4/5],Duration: 7.19s, Images/s: 1390\n",
      "Epoch [5/5],Duration: 7.40s, Images/s: 1350\n"
     ]
    }
   ],
   "source": [
    "train(batch_size=256, GPU_selection=[0,1,2,3], epoch=5, num_workers=4)"
   ]
  },
  {
   "cell_type": "code",
   "execution_count": null,
   "id": "2d7deebc-277a-4c70-973f-a9a76341911a",
   "metadata": {},
   "outputs": [],
   "source": []
  }
 ],
 "metadata": {
  "kernelspec": {
   "display_name": "datascience/conda-2023-01-10",
   "language": "python",
   "name": "conda-2023-01-10"
  },
  "language_info": {
   "codemirror_mode": {
    "name": "ipython",
    "version": 3
   },
   "file_extension": ".py",
   "mimetype": "text/x-python",
   "name": "python",
   "nbconvert_exporter": "python",
   "pygments_lexer": "ipython3",
   "version": "3.10.9"
  }
 },
 "nbformat": 4,
 "nbformat_minor": 5
}
