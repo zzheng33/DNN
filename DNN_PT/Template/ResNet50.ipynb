{
 "cells": [
  {
   "cell_type": "code",
   "execution_count": 1,
   "id": "ed82450b-c112-497d-9a6f-5adf6e4dbbc0",
   "metadata": {},
   "outputs": [],
   "source": [
    "import torch\n",
    "import torchvision\n",
    "import torchvision.transforms as transforms\n",
    "from torchvision.models import resnet50\n",
    "from torch.utils.data import DataLoader\n",
    "from torch.utils.tensorboard import SummaryWriter\n",
    "import torch.optim as optim\n",
    "import torch.nn as nn\n",
    "import time\n",
    "import os\n",
    "from torch.utils.data import Subset\n",
    "import random\n",
    "import argparse\n",
    "\n",
    "def get_random_subset_indices(num_samples, dataset_size):\n",
    "    return random.sample(range(dataset_size), num_samples)\n",
    "\n",
    "\n",
    "def create_dataset():\n",
    "     # Data augmentation and normalization for training\n",
    "    train_transform = transforms.Compose([\n",
    "        transforms.RandomResizedCrop(224),\n",
    "        transforms.RandomHorizontalFlip(),\n",
    "        transforms.ToTensor(),\n",
    "        transforms.Normalize(mean=[0.485, 0.456, 0.406], std=[0.229, 0.224, 0.225]),\n",
    "    ])\n",
    "    \n",
    "\n",
    "    train_dataset = torchvision.datasets.ImageFolder(os.path.join(\"/lus/eagle/projects/datascience/ImageNet/ILSVRC/Data/CLS-LOC\", \"train\"), transform=train_transform)\n",
    "\n",
    "    num_samples = 10000\n",
    "\n",
    "    train_indices = get_random_subset_indices(num_samples, len(train_dataset))\n",
    "    small_train_dataset = Subset(train_dataset, train_indices)\n",
    "    return small_train_dataset\n",
    "\n",
    "def build_model(GPU_selection):\n",
    "    model = resnet50(weights=None)\n",
    "    criterion = nn.CrossEntropyLoss()\n",
    "    optimizer = optim.SGD(model.parameters(), lr=0.1, momentum=0.9, weight_decay=1e-4)\n",
    "\n",
    "    device = torch.device(\"cuda\" if torch.cuda.is_available() else \"cpu\")\n",
    "    model = model.to(device)\n",
    "    model = nn.DataParallel(model,device_ids=GPU_selection)\n",
    "    return model, criterion, optimizer, device\n",
    "\n",
    "def create_dataLoader(batch_size=128, workers=4):\n",
    "    return DataLoader(create_dataset(), batch_size=batch_size, num_workers=workers, shuffle=True, pin_memory=True)\n",
    "\n",
    "# def select_device(selected_gpus):\n",
    "#      os.environ[\"CUDA_VISIBLE_DEVICES\"] = \",\".join(map(str, selected_gpus))\n",
    "\n",
    "def train_one_epoch(model, criterion, optimizer, data_loader, device):\n",
    "    model.train()\n",
    "    \n",
    "    total_images = 0\n",
    "    start_time = time.time()\n",
    "    start_time_dataLoad = time.time()\n",
    "    end_time_dataLoad = 0\n",
    "    for i, (inputs, labels) in enumerate(data_loader):\n",
    "        inputs, labels = inputs.to(device), labels.to(device)\n",
    "        optimizer.zero_grad()\n",
    "        \n",
    "        \n",
    "        outputs = model(inputs)\n",
    "        loss = criterion(outputs, labels)\n",
    "        loss.backward()\n",
    "        optimizer.step()\n",
    "\n",
    "        total_images += inputs.size(0)\n",
    "\n",
    "    end_time = time.time()\n",
    "    images_per_second = total_images / (end_time - start_time)\n",
    "    dataLoad_time = end_time_dataLoad - start_time_dataLoad\n",
    "    return int(images_per_second), end_time-start_time\n",
    "\n",
    "def train(batch_size=256, GPU_selection=[0, 1], epoch=5, num_workers=8):\n",
    "    num_epochs = epoch  # Adjust this value according to your needs\n",
    "    train_loader = create_dataLoader(batch_size, num_workers)\n",
    "    model, criterion, optimizer, device = build_model(GPU_selection)\n",
    "\n",
    "    for epoch in range(num_epochs):\n",
    "        images_per_second, epoch_duration = train_one_epoch(model, criterion, optimizer, train_loader, device)\n",
    "\n",
    "        print(f\"Epoch [{epoch + 1}/{num_epochs}], Duration: {epoch_duration:.2f}s, Images/s: {images_per_second}\")\n",
    "\n",
    "\n",
    "            \n",
    "# def main(args):\n",
    "#     batch_size = args.batch_size\n",
    "#     num_workers = args.number_worker\n",
    "#     GPU_selection = [int(gpu) for gpu in args.GPU_selection.split(\",\")]\n",
    "\n",
    "#     train(batch_size=batch_size, GPU_selection=GPU_selection, num_workers=num_workers)\n",
    "\n",
    "# # if __name__ == \"__main__\":\n",
    "# #     parser = argparse.ArgumentParser(description=\"Train ResNet-50 on ImageNet\")\n",
    "# #     parser.add_argument(\"--batch_size\", type=int, default=256, help=\"Batch size for training (default: 256)\")\n",
    "# #     parser.add_argument(\"--number_worker\", type=int, default=8, help=\"Number of workers for data loading (default: 8)\")\n",
    "# #     parser.add_argument(\"--GPU_selection\", type=str, default=\"0,1\", help=\"Comma-separated list of GPU indices to use (default: 0,1)\")\n",
    "\n",
    "# #     args = parser.parse_args()\n",
    "# #     main(args)"
   ]
  },
  {
   "cell_type": "code",
   "execution_count": null,
   "id": "185730b0-0ce4-4463-acb3-d680c088a406",
   "metadata": {},
   "outputs": [],
   "source": [
    "train(batch_size=256, GPU_selection=[0], epoch=5, num_workers=4)"
   ]
  },
  {
   "cell_type": "code",
   "execution_count": 2,
   "id": "be9212eb-246a-4f52-8dbf-60e8c7c9eb42",
   "metadata": {},
   "outputs": [
    {
     "name": "stdout",
     "output_type": "stream",
     "text": [
      "Epoch [1/5], Duration: 76.57s, Images/s: 130\n",
      "Epoch [2/5], Duration: 9.91s, Images/s: 1008\n",
      "Epoch [3/5], Duration: 9.29s, Images/s: 1076\n",
      "Epoch [4/5], Duration: 9.46s, Images/s: 1056\n",
      "Epoch [5/5], Duration: 9.52s, Images/s: 1050\n"
     ]
    }
   ],
   "source": [
    "train(batch_size=256, GPU_selection=[0, 1], epoch=5, num_workers=4)"
   ]
  },
  {
   "cell_type": "code",
   "execution_count": 3,
   "id": "ef2ff00e-63bd-4c47-8c0c-a100ad48c475",
   "metadata": {},
   "outputs": [
    {
     "name": "stdout",
     "output_type": "stream",
     "text": [
      "Epoch [1/5],Duration: 67.96s, Images/s: 147\n",
      "Epoch [2/5],Duration: 9.82s, Images/s: 1018\n",
      "Epoch [3/5],Duration: 9.12s, Images/s: 1096\n",
      "Epoch [4/5],Duration: 9.20s, Images/s: 1087\n",
      "Epoch [5/5],Duration: 9.17s, Images/s: 1090\n"
     ]
    }
   ],
   "source": [
    "train(batch_size=256, GPU_selection=[0,1,2], epoch=5, num_workers=4)"
   ]
  },
  {
   "cell_type": "code",
   "execution_count": 2,
   "id": "10ba5ca1-f1a0-486f-8edc-b519a8c19f8d",
   "metadata": {},
   "outputs": [
    {
     "name": "stdout",
     "output_type": "stream",
     "text": [
      "Epoch [1/5],Duration: 68.42s, Images/s: 146\n",
      "Epoch [2/5],Duration: 9.30s, Images/s: 1075\n",
      "Epoch [3/5],Duration: 9.11s, Images/s: 1097\n",
      "Epoch [4/5],Duration: 9.13s, Images/s: 1094\n",
      "Epoch [5/5],Duration: 9.27s, Images/s: 1079\n"
     ]
    }
   ],
   "source": [
    "train(batch_size=256, GPU_selection=[0, 1,2,3], epoch=5, num_workers=4)"
   ]
  },
  {
   "cell_type": "code",
   "execution_count": null,
   "id": "fe160d3b-21de-4d63-ab49-af8588f323ed",
   "metadata": {},
   "outputs": [
    {
     "name": "stdout",
     "output_type": "stream",
     "text": [
      "Epoch [1/100],Duration: 37.56s, Images/s: 266\n",
      "Epoch [2/100],Duration: 5.56s, Images/s: 1797\n",
      "Epoch [3/100],Duration: 5.82s, Images/s: 1717\n",
      "Epoch [4/100],Duration: 5.61s, Images/s: 1784\n",
      "Epoch [5/100],Duration: 5.73s, Images/s: 1744\n",
      "Epoch [6/100],Duration: 5.73s, Images/s: 1744\n",
      "Epoch [7/100],Duration: 5.69s, Images/s: 1755\n",
      "Epoch [8/100],Duration: 5.62s, Images/s: 1779\n",
      "Epoch [9/100],Duration: 5.51s, Images/s: 1814\n",
      "Epoch [10/100],Duration: 5.77s, Images/s: 1733\n",
      "Epoch [11/100],Duration: 5.80s, Images/s: 1722\n",
      "Epoch [12/100],Duration: 6.21s, Images/s: 1609\n",
      "Epoch [13/100],Duration: 5.84s, Images/s: 1713\n",
      "Epoch [14/100],Duration: 5.57s, Images/s: 1794\n",
      "Epoch [15/100],Duration: 5.67s, Images/s: 1764\n",
      "Epoch [16/100],Duration: 5.59s, Images/s: 1787\n",
      "Epoch [17/100],Duration: 5.71s, Images/s: 1749\n"
     ]
    }
   ],
   "source": [
    "train(batch_size=256, GPU_selection=[0, 1,2,3], epoch=100, num_workers=8)"
   ]
  },
  {
   "cell_type": "code",
   "execution_count": null,
   "id": "a52cc12f-3857-4395-884c-f1e84d0afa40",
   "metadata": {},
   "outputs": [],
   "source": []
  }
 ],
 "metadata": {
  "kernelspec": {
   "display_name": "datascience/conda-2023-01-10",
   "language": "python",
   "name": "conda-2023-01-10"
  },
  "language_info": {
   "codemirror_mode": {
    "name": "ipython",
    "version": 3
   },
   "file_extension": ".py",
   "mimetype": "text/x-python",
   "name": "python",
   "nbconvert_exporter": "python",
   "pygments_lexer": "ipython3",
   "version": "3.10.9"
  }
 },
 "nbformat": 4,
 "nbformat_minor": 5
}
